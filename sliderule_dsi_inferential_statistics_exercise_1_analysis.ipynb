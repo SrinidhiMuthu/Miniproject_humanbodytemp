{
 "cells": [
  {
   "cell_type": "markdown",
   "metadata": {},
   "source": [
    "# What is the True Normal Human Body Temperature? \n",
    "\n",
    "#### Background\n",
    "\n",
    "The mean normal body temperature was held to be 37$^{\\circ}$C or 98.6$^{\\circ}$F for more than 120 years since it was first conceptualized and reported by Carl Wunderlich in a famous 1868 book. But, is this value statistically correct?"
   ]
  },
  {
   "cell_type": "markdown",
   "metadata": {},
   "source": [
    "<h3>Exercises</h3>\n",
    "\n",
    "<p>In this exercise, you will analyze a dataset of human body temperatures and employ the concepts of hypothesis testing, confidence intervals, and statistical significance.</p>\n",
    "\n",
    "<p>Answer the following questions <b>in this notebook below and submit to your Github account</b>.</p> \n",
    "\n",
    "<ol>\n",
    "<li>  Is the distribution of body temperatures normal? \n",
    "    <ul>\n",
    "    <li> Although this is not a requirement for CLT to hold (read CLT carefully), it gives us some peace of mind that the population may also be normally distributed if we assume that this sample is representative of the population.\n",
    "    </ul>\n",
    "<li>  Is the sample size large? Are the observations independent?\n",
    "    <ul>\n",
    "    <li> Remember that this is a condition for the CLT, and hence the statistical tests we are using, to apply.\n",
    "    </ul>\n",
    "<li>  Is the true population mean really 98.6 degrees F?\n",
    "    <ul>\n",
    "    <li> Would you use a one-sample or two-sample test? Why?\n",
    "    <li> In this situation, is it appropriate to use the $t$ or $z$ statistic? \n",
    "    <li> Now try using the other test. How is the result be different? Why?\n",
    "    </ul>\n",
    "<li>  Draw a small sample of size 10 from the data and repeat both tests. \n",
    "    <ul>\n",
    "    <li> Which one is the correct one to use? \n",
    "    <li> What do you notice? What does this tell you about the difference in application of the $t$ and $z$ statistic?\n",
    "    </ul>\n",
    "<li>  At what temperature should we consider someone's temperature to be \"abnormal\"?\n",
    "    <ul>\n",
    "    <li> Start by computing the margin of error and confidence interval.\n",
    "    </ul>\n",
    "<li>  Is there a significant difference between males and females in normal temperature?\n",
    "    <ul>\n",
    "    <li> What test did you use and why?\n",
    "    <li> Write a story with your conclusion in the context of the original problem.\n",
    "    </ul>\n",
    "</ol>\n",
    "\n",
    "You can include written notes in notebook cells using Markdown: \n",
    "   - In the control panel at the top, choose Cell > Cell Type > Markdown\n",
    "   - Markdown syntax: http://nestacms.com/docs/creating-content/markdown-cheat-sheet\n",
    "\n",
    "#### Resources\n",
    "\n",
    "+ Information and data sources: http://www.amstat.org/publications/jse/datasets/normtemp.txt, http://www.amstat.org/publications/jse/jse_data_archive.htm\n",
    "+ Markdown syntax: http://nestacms.com/docs/creating-content/markdown-cheat-sheet\n",
    "\n",
    "****"
   ]
  },
  {
   "cell_type": "code",
   "execution_count": 12,
   "metadata": {
    "collapsed": true
   },
   "outputs": [],
   "source": [
    "import pandas as pd\n",
    "\n",
    "df = pd.read_csv('data/human_body_temperature.csv')\n",
    "mu = np.mean(df['temperature'])\n",
    "sigma = np.std(df['temperature'])\n",
    "var = np.var(df['temperature'])"
   ]
  },
  {
   "cell_type": "code",
   "execution_count": 4,
   "metadata": {},
   "outputs": [
    {
     "data": {
      "image/png": "[encoded data removed]",
      "text/plain": [
       "<matplotlib.figure.Figure at 0x9aef4e0>"
      ]
     },
     "metadata": {},
     "output_type": "display_data"
    }
   ],
   "source": [
    "# Your work here.\n",
    "#The graph below shows the normal distributuion of the temperature data \n",
    "import matplotlib.mlab as mlab\n",
    "import numpy as np\n",
    "mu = np.mean(df['temperature'])\n",
    "sigma= np.std(df['temperature'])\n",
    "n_bins = np.sqrt(len(np.array(df['temperature'])))\n",
    "n, bins, patches = plt.hist(df['temperature'],bins = 10,normed=1)\n",
    "\n",
    "y = mlab.normpdf(bins, mu, sigma)\n",
    "_=plt.plot(bins, y, '--')\n",
    "\n",
    "plt.margins(0.02)\n",
    "_ = plt.xlabel('Body temperature')\n",
    "_ = plt.ylabel('NormalPDF')\n",
    "plt.show()"
   ]
  },
  {
   "cell_type": "code",
   "execution_count": 5,
   "metadata": {},
   "outputs": [
    {
     "data": {
      "image/png": "[encoded data removed]",
      "text/plain": [
       "<matplotlib.figure.Figure at 0x9ae9668>"
      ]
     },
     "metadata": {},
     "output_type": "display_data"
    }
   ],
   "source": [
    "samples = np.random.normal(mu,sigma,size = 10000)\n",
    "plt.hist(samples)\n",
    "plt.show()"
   ]
  },
  {
   "cell_type": "code",
   "execution_count": 10,
   "metadata": {},
   "outputs": [
    {
     "name": "stdout",
     "output_type": "stream",
     "text": [
      "Normal distribution\n"
     ]
    }
   ],
   "source": [
    "#test-statistic i.e, find p-value\n",
    "import scipy.stats as stats\n",
    "z,pvalue = stats.normaltest(df['temperature'])\n",
    "if pvalue <0.05:\n",
    "    print('Not Normal Distribution')\n",
    "else:\n",
    "    print('Normal distribution')\n",
    "#NormaltestResult(statistic=2.7038014333192031, pvalue=0.2587479863488254)\n",
    "#This function tests the null hypothesis that a sample comes from a normal distribution"
   ]
  },
  {
   "cell_type": "code",
   "execution_count": 100,
   "metadata": {},
   "outputs": [
    {
     "data": {
      "text/plain": [
       "(-5.4548232923645195, 2.4106320415561276e-07)"
      ]
     },
     "execution_count": 100,
     "metadata": {},
     "output_type": "execute_result"
    }
   ],
   "source": [
    "#A one-sample t-test checks whether a sample mean differs from the population mean\n",
    "#The T-test is a statistical test used to determine whether a numeric data sample of differs significantly from the population or whether two samples differ from one another.\n",
    "#Null Hypothesis  - Ho = 98.6 , Alternate hypothesis = Ha <98.6\n",
    "import numpy as np\n",
    "import pandas as pd\n",
    "import scipy.stats as stats\n",
    "import matplotlib.pyplot as plt\n",
    "import math\n",
    "z,pval=stats.ttest_1samp(df['temperature'],popmean=98.6)\n",
    "z,pval"
   ]
  },
  {
   "cell_type": "code",
   "execution_count": 21,
   "metadata": {},
   "outputs": [
    {
     "name": "stdout",
     "output_type": "stream",
     "text": [
      "Ho must be rejected. True Population Mean is NOT 98.6 F\n"
     ]
    }
   ],
   "source": [
    "if P_Value<0.05:\n",
    "    print('Ho must be rejected. True Population Mean is NOT 98.6 F')\n",
    "else:\n",
    "    print('Ho is True.  True Population mean is 98.6 F.')"
   ]
  },
  {
   "cell_type": "code",
   "execution_count": 27,
   "metadata": {},
   "outputs": [
    {
     "data": {
      "text/plain": [
       "-5.4759252020781162"
      ]
     },
     "execution_count": 27,
     "metadata": {},
     "output_type": "execute_result"
    }
   ],
   "source": [
    "#compare t-statistic with z-statistic \n",
    "#t-statistic - Unknown mean and unknown Std\n",
    "SE = np.std(df['temperature'])/np.sqrt(130)\n",
    "T_val = (mu-98.6)/SE\n",
    "T_val"
   ]
  },
  {
   "cell_type": "code",
   "execution_count": 103,
   "metadata": {},
   "outputs": [
    {
     "data": {
      "text/plain": [
       "(98.123682111456645,\n",
       " 98.37477942700491,\n",
       " 1.959963984540054,\n",
       " 1.0943732312047587e-07)"
      ]
     },
     "execution_count": 103,
     "metadata": {},
     "output_type": "execute_result"
    }
   ],
   "source": [
    "P_Value = stats.t.sf(np.abs(T_val),129)#stats.norm.sf(abs(z)) DF = n-1 == 130-1\n",
    "#p-value = 0\n",
    "\n"
   ]
  },
  {
   "cell_type": "code",
   "execution_count": 104,
   "metadata": {},
   "outputs": [
    {
     "data": {
      "text/plain": [
       "(98.123682111456645, 98.37477942700491)"
      ]
     },
     "execution_count": 104,
     "metadata": {},
     "output_type": "execute_result"
    }
   ],
   "source": [
    "SE = np.std(df['temperature'])/np.sqrt(130)\n",
    "critical_value_z = stats.norm.ppf(0.975) #critical value (z*)\n",
    "critical_value_t = stats.t.ppf(1-0.025, 129) #critical_value (t*)\n",
    "range1z = (mu - (critical_value_z*SE))\n",
    "range2z = (mu + (critical_value_z*SE))\n",
    "#Confidence interval with z statitic\n",
    "range1z,range2z"
   ]
  },
  {
   "cell_type": "code",
   "execution_count": 105,
   "metadata": {},
   "outputs": [
    {
     "data": {
      "text/plain": [
       "(98.12249318821641, 98.375968350245145)"
      ]
     },
     "execution_count": 105,
     "metadata": {},
     "output_type": "execute_result"
    }
   ],
   "source": [
    "range1 = (mu - (critical_value_t*SE))\n",
    "range2 = (mu + (critical_value_t*SE))\n",
    "range1,range2\n",
    "#z-statistic and t-statistic show same results "
   ]
  },
  {
   "cell_type": "code",
   "execution_count": 48,
   "metadata": {},
   "outputs": [
    {
     "data": {
      "image/png": "[encoded data removed]",
      "text/plain": [
       "<matplotlib.figure.Figure at 0xa573b00>"
      ]
     },
     "metadata": {},
     "output_type": "display_data"
    },
    {
     "data": {
      "text/plain": [
       "<matplotlib.text.Text at 0xba7e240>"
      ]
     },
     "execution_count": 48,
     "metadata": {},
     "output_type": "execute_result"
    }
   ],
   "source": [
    "#There is no difference between z - statistics and t-statistics\n",
    "#import pylab\n",
    "#x = np.linspace(96,101,130)\n",
    "#y = stats.norm.pdf(x, loc=mean, scale=std) \n",
    "import matplotlib.pyplot as plt\n",
    "x = np.linspace(96,101,130)\n",
    "\n",
    "#n, bins, patches = plt.hist(df['temperature'],bins = 10,normed=1)\n",
    "y = mlab.normpdf(x, mu, sigma)\n",
    "_=plt.plot(x, y, '--')\n",
    "plt.plot(x,y)\n",
    "\n",
    "plt.xlabel('Temperature')\n",
    "plt.ylabel('PDF')\n",
    "plt.vlines(range1z,0, 0.6)\n",
    "plt.vlines(range2z,0,0.6,color='red')\n",
    "plt.show()\n",
    "plt.legend(['sample distribution','98.12 F', '98.38 F'])\n",
    "plt.title('Normal Human Body Temperature')\n",
    "#Abnormal Body Temp - 98.6"
   ]
  },
  {
   "cell_type": "code",
   "execution_count": 66,
   "metadata": {},
   "outputs": [
    {
     "data": {
      "text/plain": [
       "(98.39384615384613, 98.1046153846154)"
      ]
     },
     "execution_count": 66,
     "metadata": {},
     "output_type": "execute_result"
    }
   ],
   "source": [
    "df_F=df[df['gender']=='F']\n",
    "df_M = df[df['gender']=='M']\n",
    "df_F_mean = np.mean(df_F['temperature'])\n",
    "df_M_mean = np.mean(df_M['temperature'])\n",
    "df_F_std = np.std(df_F['temperature'])\n",
    "df_M_std = np.std(df_M['temperature'])\n",
    "df_F_mean,df_M_mean"
   ]
  },
  {
   "cell_type": "code",
   "execution_count": 87,
   "metadata": {},
   "outputs": [
    {
     "data": {
      "text/plain": [
       "-0.289230769230727"
      ]
     },
     "execution_count": 87,
     "metadata": {},
     "output_type": "execute_result"
    }
   ],
   "source": [
    "#Comaprsion between means \n",
    "#mean difference for both F n M\n",
    "df_mean_diff = df_M_mean - df_F_mean\n",
    "df_mean_diff"
   ]
  },
  {
   "cell_type": "code",
   "execution_count": 132,
   "metadata": {},
   "outputs": [
    {
     "data": {
      "text/plain": [
       "0.0"
      ]
     },
     "execution_count": 132,
     "metadata": {},
     "output_type": "execute_result"
    }
   ],
   "source": [
    "import scipy.stats as stats\n",
    "\n",
    "SE_both = ((df_F_std**2)/65 + (df_M_std**2)/((65)))**(0.5)\n",
    "t_stat= df_mean_diff/SE_both\n",
    "SE_F"
   ]
  },
  {
   "cell_type": "code",
   "execution_count": 99,
   "metadata": {},
   "outputs": [
    {
     "data": {
      "text/plain": [
       "0.022879279869584303"
      ]
     },
     "execution_count": 99,
     "metadata": {},
     "output_type": "execute_result"
    }
   ],
   "source": [
    "p=stats.t.sf(np.abs(t_stat), 128)*2 #DF = 128 2 sided "
   ]
  },
  {
   "cell_type": "code",
   "execution_count": 90,
   "metadata": {
    "collapsed": true
   },
   "outputs": [],
   "source": [
    "critical_value_t1 = stats.t.ppf(1-0.025, 64)"
   ]
  },
  {
   "cell_type": "code",
   "execution_count": 91,
   "metadata": {},
   "outputs": [
    {
     "data": {
      "text/plain": [
       "(-0.54009903708341722, -0.038362501378036762)"
      ]
     },
     "execution_count": 91,
     "metadata": {},
     "output_type": "execute_result"
    }
   ],
   "source": [
    "#The value 0 is not included in THe CI , so we can reject null hypothesis. There is significant difference between female and male body temperatures\n",
    "range1f = (df_mean_diff - (critical_value_t1*SE_both))\n",
    "range2f = (df_mean_diff + (critical_value_t1*SE_both))\n",
    "range1f,range2f\n"
   ]
  },
  {
   "cell_type": "code",
   "execution_count": 97,
   "metadata": {},
   "outputs": [
    {
     "data": {
      "text/plain": [
       "0.022002602610986577"
      ]
     },
     "execution_count": 97,
     "metadata": {},
     "output_type": "execute_result"
    }
   ],
   "source": [
    "# margin of error m of a confidence interval is defined to be the value added or subtracted from the sample mean which determines the length of the interval: m = z*\n",
    "m1 = critical_value_t1*SE_both\n",
    "m=m1/np.sqrt(130)"
   ]
  },
  {
   "cell_type": "code",
   "execution_count": 108,
   "metadata": {},
   "outputs": [
    {
     "data": {
      "text/plain": [
       "(98.123911159152215, 98.625647694857605)"
      ]
     },
     "execution_count": 108,
     "metadata": {},
     "output_type": "execute_result"
    }
   ],
   "source": [
    "range2z-m,range2z+m\n",
    "#Above 98.6 is abnormal temperature"
   ]
  },
  {
   "cell_type": "code",
   "execution_count": 133,
   "metadata": {
    "scrolled": true
   },
   "outputs": [
    {
     "data": {
      "image/png": "[encoded data removed]",
      "text/plain": [
       "<matplotlib.figure.Figure at 0xa1c3198>"
      ]
     },
     "metadata": {},
     "output_type": "display_data"
    }
   ],
   "source": [
    "import pylab\n",
    "x = np.linspace(96,101,130)\n",
    "\n",
    "y1 = mlab.normpdf(x, df_M_mean,df_F_std )    \n",
    "pylab.plot(x,y1)\n",
    "\n",
    "y2 = mlab.normpdf(x, df_F_mean, df_M_std)    \n",
    "pylab.plot(x,y2)\n",
    "pylab.xlabel('Temperature')\n",
    "pylab.ylabel('PDF')\n",
    "pylab.vlines(df_M_mean,0, 0.6, color='blue')\n",
    "pylab.vlines(df_F_mean,0,0.6, color='red')\n",
    "pylab.legend(['M', 'F', '98.10 F', '98.39 F'])\n",
    "pylab.title('Male and Female Body Temperature')\n",
    "pylab.show()"
   ]
  },
  {
   "cell_type": "code",
   "execution_count": null,
   "metadata": {
    "collapsed": true
   },
   "outputs": [],
   "source": []
  }
 ],
 "metadata": {
  "kernelspec": {
   "display_name": "Python 3",
   "language": "python",
   "name": "python3"
  },
  "language_info": {
   "codemirror_mode": {
    "name": "ipython",
    "version": 3
   },
   "file_extension": ".py",
   "mimetype": "text/x-python",
   "name": "python",
   "nbconvert_exporter": "python",
   "pygments_lexer": "ipython3",
   "version": "3.6.2"
  }
 },
 "nbformat": 4,
 "nbformat_minor": 1
}
